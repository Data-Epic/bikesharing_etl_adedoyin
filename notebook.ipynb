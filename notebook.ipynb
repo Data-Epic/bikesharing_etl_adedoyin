{
 "cells": [
  {
   "cell_type": "markdown",
   "id": "4592dc74",
   "metadata": {},
   "source": [
    "Extract Data"
   ]
  },
  {
   "cell_type": "code",
   "execution_count": 1,
   "id": "7a94af2b",
   "metadata": {},
   "outputs": [],
   "source": [
    "import requests\n",
    "import polars as pl\n",
    "import pandas as pd\n",
    "from zipfile import ZipFile"
   ]
  },
  {
   "cell_type": "code",
   "execution_count": 2,
   "id": "5eea91bc",
   "metadata": {},
   "outputs": [],
   "source": [
    "DATA_URL = \"https://s3.amazonaws.com/capitalbikeshare-data/202212-capitalbikeshare-tripdata.zip\"\n",
    "\n",
    "# pl.read_csv(\n",
    "#     ZipFile(DATA_URL ).open(\"my_file.csv\", method='r').read()\n",
    "# )# "
   ]
  },
  {
   "cell_type": "code",
   "execution_count": 3,
   "id": "570de299",
   "metadata": {},
   "outputs": [],
   "source": [
    "# pd.read_csv(DATA_URL).head()\n"
   ]
  },
  {
   "cell_type": "code",
   "execution_count": 4,
   "id": "11407860",
   "metadata": {},
   "outputs": [],
   "source": [
    "from datetime import datetime\n",
    "\n",
    "time_stamp = datetime.now().strftime(\"%d-%m-%Y\")\n",
    "\n",
    "response = requests.get(DATA_URL)\n",
    "\n",
    "with open(f\"{time_stamp}_capitalbikeshare-tripdata.zip\", 'wb') as f:\n",
    "    f.write(response.content)"
   ]
  },
  {
   "cell_type": "code",
   "execution_count": null,
   "id": "8931f236",
   "metadata": {},
   "outputs": [],
   "source": [
    "from zipfile import ZipFile\n",
    "import os\n",
    "\n",
    "folder_name = f\"{time_stamp}_capitalbikeshare-tripdata\"\n",
    "\n",
    "folder = os.makedirs(folder_name, exist_ok=True)\n",
    "\n",
    "\n",
    "with ZipFile(f\"{time_stamp}_capitalbikeshare-tripdata.zip\", \"r\") as zip_ref:\n",
    "    zip_ref.extractall(folder_name)"
   ]
  },
  {
   "cell_type": "code",
   "execution_count": 6,
   "id": "cb416f75",
   "metadata": {},
   "outputs": [],
   "source": [
    "def extract_file():\n",
    "    for file in os.listdir(folder_name):\n",
    "        if file.endswith(\".csv\"):\n",
    "            return os.path.join(folder_name,file)"
   ]
  },
  {
   "cell_type": "markdown",
   "id": "7def1f72",
   "metadata": {},
   "source": [
    "Transform"
   ]
  },
  {
   "cell_type": "code",
   "execution_count": 7,
   "id": "64e41521",
   "metadata": {},
   "outputs": [
    {
     "name": "stdout",
     "output_type": "stream",
     "text": [
      "30-04-2025_capitalbikeshare-tripdata\\202212-capitalbikeshare-tripdata.csv\n"
     ]
    }
   ],
   "source": [
    "DATA_PATH = extract_file()\n",
    "print(DATA_PATH)"
   ]
  },
  {
   "cell_type": "code",
   "execution_count": 8,
   "id": "a89da7ef",
   "metadata": {},
   "outputs": [
    {
     "data": {
      "text/html": [
       "<div><style>\n",
       ".dataframe > thead > tr,\n",
       ".dataframe > tbody > tr {\n",
       "  text-align: right;\n",
       "  white-space: pre-wrap;\n",
       "}\n",
       "</style>\n",
       "<small>shape: (5, 13)</small><table border=\"1\" class=\"dataframe\"><thead><tr><th>ride_id</th><th>rideable_type</th><th>started_at</th><th>ended_at</th><th>start_station_name</th><th>start_station_id</th><th>end_station_name</th><th>end_station_id</th><th>start_lat</th><th>start_lng</th><th>end_lat</th><th>end_lng</th><th>member_casual</th></tr><tr><td>str</td><td>str</td><td>str</td><td>str</td><td>str</td><td>i64</td><td>str</td><td>i64</td><td>f64</td><td>f64</td><td>f64</td><td>f64</td><td>str</td></tr></thead><tbody><tr><td>&quot;1C109AA07D71B300&quot;</td><td>&quot;classic_bike&quot;</td><td>&quot;2022-12-02 11:59:29&quot;</td><td>&quot;2022-12-02 12:02:44&quot;</td><td>&quot;17th St &amp; Massachusetts Ave NW&quot;</td><td>31267</td><td>&quot;Massachusetts Ave &amp; Dupont Cir…</td><td>31200</td><td>38.908142</td><td>-77.038359</td><td>38.9101</td><td>-77.0444</td><td>&quot;member&quot;</td></tr><tr><td>&quot;DD4F1F66ACD60BDA&quot;</td><td>&quot;classic_bike&quot;</td><td>&quot;2022-12-14 19:09:35&quot;</td><td>&quot;2022-12-14 19:47:14&quot;</td><td>&quot;C &amp; O Canal &amp; Wisconsin Ave NW&quot;</td><td>31225</td><td>&quot;8th &amp; F St NE&quot;</td><td>31631</td><td>38.90375</td><td>-77.06269</td><td>38.897274</td><td>-76.994749</td><td>&quot;member&quot;</td></tr><tr><td>&quot;B109378ACEA4F614&quot;</td><td>&quot;classic_bike&quot;</td><td>&quot;2022-12-03 14:21:50&quot;</td><td>&quot;2022-12-03 14:23:06&quot;</td><td>&quot;Potomac Ave &amp; 35th St S&quot;</td><td>31052</td><td>&quot;S Clark St &amp; 33rd St&quot;</td><td>31944</td><td>38.844015</td><td>-77.050537</td><td>38.845028</td><td>-77.051956</td><td>&quot;member&quot;</td></tr><tr><td>&quot;BC5B3C71DDD1A782&quot;</td><td>&quot;classic_bike&quot;</td><td>&quot;2022-12-19 14:28:28&quot;</td><td>&quot;2022-12-19 14:39:47&quot;</td><td>&quot;Market Square / King St &amp; Roya…</td><td>31042</td><td>&quot;Potomac Greens Dr &amp; Slaters Ln&quot;</td><td>31083</td><td>38.804718</td><td>-77.043363</td><td>38.82175</td><td>-77.047494</td><td>&quot;member&quot;</td></tr><tr><td>&quot;ED7903CC0350847E&quot;</td><td>&quot;classic_bike&quot;</td><td>&quot;2022-12-07 13:46:30&quot;</td><td>&quot;2022-12-07 13:49:20&quot;</td><td>&quot;Market Square / King St &amp; Roya…</td><td>31042</td><td>&quot;King St &amp; Patrick St&quot;</td><td>31044</td><td>38.804718</td><td>-77.043363</td><td>38.805317</td><td>-77.049883</td><td>&quot;member&quot;</td></tr></tbody></table></div>"
      ],
      "text/plain": [
       "shape: (5, 13)\n",
       "┌───────────┬───────────┬───────────┬───────────┬───┬───────────┬───────────┬───────────┬──────────┐\n",
       "│ ride_id   ┆ rideable_ ┆ started_a ┆ ended_at  ┆ … ┆ start_lng ┆ end_lat   ┆ end_lng   ┆ member_c │\n",
       "│ ---       ┆ type      ┆ t         ┆ ---       ┆   ┆ ---       ┆ ---       ┆ ---       ┆ asual    │\n",
       "│ str       ┆ ---       ┆ ---       ┆ str       ┆   ┆ f64       ┆ f64       ┆ f64       ┆ ---      │\n",
       "│           ┆ str       ┆ str       ┆           ┆   ┆           ┆           ┆           ┆ str      │\n",
       "╞═══════════╪═══════════╪═══════════╪═══════════╪═══╪═══════════╪═══════════╪═══════════╪══════════╡\n",
       "│ 1C109AA07 ┆ classic_b ┆ 2022-12-0 ┆ 2022-12-0 ┆ … ┆ -77.03835 ┆ 38.9101   ┆ -77.0444  ┆ member   │\n",
       "│ D71B300   ┆ ike       ┆ 2         ┆ 2         ┆   ┆ 9         ┆           ┆           ┆          │\n",
       "│           ┆           ┆ 11:59:29  ┆ 12:02:44  ┆   ┆           ┆           ┆           ┆          │\n",
       "│ DD4F1F66A ┆ classic_b ┆ 2022-12-1 ┆ 2022-12-1 ┆ … ┆ -77.06269 ┆ 38.897274 ┆ -76.99474 ┆ member   │\n",
       "│ CD60BDA   ┆ ike       ┆ 4         ┆ 4         ┆   ┆           ┆           ┆ 9         ┆          │\n",
       "│           ┆           ┆ 19:09:35  ┆ 19:47:14  ┆   ┆           ┆           ┆           ┆          │\n",
       "│ B109378AC ┆ classic_b ┆ 2022-12-0 ┆ 2022-12-0 ┆ … ┆ -77.05053 ┆ 38.845028 ┆ -77.05195 ┆ member   │\n",
       "│ EA4F614   ┆ ike       ┆ 3         ┆ 3         ┆   ┆ 7         ┆           ┆ 6         ┆          │\n",
       "│           ┆           ┆ 14:21:50  ┆ 14:23:06  ┆   ┆           ┆           ┆           ┆          │\n",
       "│ BC5B3C71D ┆ classic_b ┆ 2022-12-1 ┆ 2022-12-1 ┆ … ┆ -77.04336 ┆ 38.82175  ┆ -77.04749 ┆ member   │\n",
       "│ DD1A782   ┆ ike       ┆ 9         ┆ 9         ┆   ┆ 3         ┆           ┆ 4         ┆          │\n",
       "│           ┆           ┆ 14:28:28  ┆ 14:39:47  ┆   ┆           ┆           ┆           ┆          │\n",
       "│ ED7903CC0 ┆ classic_b ┆ 2022-12-0 ┆ 2022-12-0 ┆ … ┆ -77.04336 ┆ 38.805317 ┆ -77.04988 ┆ member   │\n",
       "│ 350847E   ┆ ike       ┆ 7         ┆ 7         ┆   ┆ 3         ┆           ┆ 3         ┆          │\n",
       "│           ┆           ┆ 13:46:30  ┆ 13:49:20  ┆   ┆           ┆           ┆           ┆          │\n",
       "└───────────┴───────────┴───────────┴───────────┴───┴───────────┴───────────┴───────────┴──────────┘"
      ]
     },
     "execution_count": 8,
     "metadata": {},
     "output_type": "execute_result"
    }
   ],
   "source": [
    "data = pl.read_csv(DATA_PATH)\n",
    "data.head()"
   ]
  },
  {
   "cell_type": "code",
   "execution_count": 9,
   "id": "1cb7ea58",
   "metadata": {},
   "outputs": [
    {
     "data": {
      "text/plain": [
       "['ride_id',\n",
       " 'rideable_type',\n",
       " 'started_at',\n",
       " 'ended_at',\n",
       " 'start_station_name',\n",
       " 'start_station_id',\n",
       " 'end_station_name',\n",
       " 'end_station_id',\n",
       " 'start_lat',\n",
       " 'start_lng',\n",
       " 'end_lat',\n",
       " 'end_lng',\n",
       " 'member_casual']"
      ]
     },
     "execution_count": 9,
     "metadata": {},
     "output_type": "execute_result"
    }
   ],
   "source": [
    "data.columns"
   ]
  },
  {
   "cell_type": "code",
   "execution_count": 10,
   "id": "9f5e9757",
   "metadata": {},
   "outputs": [
    {
     "data": {
      "text/plain": [
       "175233"
      ]
     },
     "execution_count": 10,
     "metadata": {},
     "output_type": "execute_result"
    }
   ],
   "source": [
    "len(data)"
   ]
  },
  {
   "cell_type": "code",
   "execution_count": 11,
   "id": "34cc2570",
   "metadata": {},
   "outputs": [
    {
     "data": {
      "text/plain": [
       "Schema([('ride_id', String),\n",
       "        ('rideable_type', String),\n",
       "        ('started_at', String),\n",
       "        ('ended_at', String),\n",
       "        ('start_station_name', String),\n",
       "        ('start_station_id', Int64),\n",
       "        ('end_station_name', String),\n",
       "        ('end_station_id', Int64),\n",
       "        ('start_lat', Float64),\n",
       "        ('start_lng', Float64),\n",
       "        ('end_lat', Float64),\n",
       "        ('end_lng', Float64),\n",
       "        ('member_casual', String)])"
      ]
     },
     "execution_count": 11,
     "metadata": {},
     "output_type": "execute_result"
    }
   ],
   "source": [
    "data.schema"
   ]
  },
  {
   "cell_type": "code",
   "execution_count": null,
   "id": "c5c96baa",
   "metadata": {},
   "outputs": [
    {
     "data": {
      "text/html": [
       "<div><style>\n",
       ".dataframe > thead > tr,\n",
       ".dataframe > tbody > tr {\n",
       "  text-align: right;\n",
       "  white-space: pre-wrap;\n",
       "}\n",
       "</style>\n",
       "<small>shape: (175_233, 16)</small><table border=\"1\" class=\"dataframe\"><thead><tr><th>ride_id</th><th>rideable_type</th><th>started_at</th><th>ended_at</th><th>start_station_name</th><th>start_station_id</th><th>end_station_name</th><th>end_station_id</th><th>start_lat</th><th>start_lng</th><th>end_lat</th><th>end_lng</th><th>member_casual</th><th>duration</th><th>duration_seconds</th><th>week</th></tr><tr><td>str</td><td>str</td><td>datetime[μs]</td><td>datetime[μs]</td><td>str</td><td>i64</td><td>str</td><td>i64</td><td>f64</td><td>f64</td><td>f64</td><td>f64</td><td>str</td><td>duration[μs]</td><td>i64</td><td>i8</td></tr></thead><tbody><tr><td>&quot;1C109AA07D71B300&quot;</td><td>&quot;classic_bike&quot;</td><td>2022-12-02 11:59:29</td><td>2022-12-02 12:02:44</td><td>&quot;17th St &amp; Massachusetts Ave NW&quot;</td><td>31267</td><td>&quot;Massachusetts Ave &amp; Dupont Cir…</td><td>31200</td><td>38.908142</td><td>-77.038359</td><td>38.9101</td><td>-77.0444</td><td>&quot;member&quot;</td><td>3m 15s</td><td>195</td><td>48</td></tr><tr><td>&quot;DD4F1F66ACD60BDA&quot;</td><td>&quot;classic_bike&quot;</td><td>2022-12-14 19:09:35</td><td>2022-12-14 19:47:14</td><td>&quot;C &amp; O Canal &amp; Wisconsin Ave NW&quot;</td><td>31225</td><td>&quot;8th &amp; F St NE&quot;</td><td>31631</td><td>38.90375</td><td>-77.06269</td><td>38.897274</td><td>-76.994749</td><td>&quot;member&quot;</td><td>37m 39s</td><td>2259</td><td>50</td></tr><tr><td>&quot;B109378ACEA4F614&quot;</td><td>&quot;classic_bike&quot;</td><td>2022-12-03 14:21:50</td><td>2022-12-03 14:23:06</td><td>&quot;Potomac Ave &amp; 35th St S&quot;</td><td>31052</td><td>&quot;S Clark St &amp; 33rd St&quot;</td><td>31944</td><td>38.844015</td><td>-77.050537</td><td>38.845028</td><td>-77.051956</td><td>&quot;member&quot;</td><td>1m 16s</td><td>76</td><td>48</td></tr><tr><td>&quot;BC5B3C71DDD1A782&quot;</td><td>&quot;classic_bike&quot;</td><td>2022-12-19 14:28:28</td><td>2022-12-19 14:39:47</td><td>&quot;Market Square / King St &amp; Roya…</td><td>31042</td><td>&quot;Potomac Greens Dr &amp; Slaters Ln&quot;</td><td>31083</td><td>38.804718</td><td>-77.043363</td><td>38.82175</td><td>-77.047494</td><td>&quot;member&quot;</td><td>11m 19s</td><td>679</td><td>51</td></tr><tr><td>&quot;ED7903CC0350847E&quot;</td><td>&quot;classic_bike&quot;</td><td>2022-12-07 13:46:30</td><td>2022-12-07 13:49:20</td><td>&quot;Market Square / King St &amp; Roya…</td><td>31042</td><td>&quot;King St &amp; Patrick St&quot;</td><td>31044</td><td>38.804718</td><td>-77.043363</td><td>38.805317</td><td>-77.049883</td><td>&quot;member&quot;</td><td>2m 50s</td><td>170</td><td>49</td></tr><tr><td>&hellip;</td><td>&hellip;</td><td>&hellip;</td><td>&hellip;</td><td>&hellip;</td><td>&hellip;</td><td>&hellip;</td><td>&hellip;</td><td>&hellip;</td><td>&hellip;</td><td>&hellip;</td><td>&hellip;</td><td>&hellip;</td><td>&hellip;</td><td>&hellip;</td><td>&hellip;</td></tr><tr><td>&quot;99A72D09AA13F4F9&quot;</td><td>&quot;classic_bike&quot;</td><td>2022-12-29 11:50:13</td><td>2022-12-29 12:00:30</td><td>&quot;5th &amp; K St NW&quot;</td><td>31600</td><td>&quot;New Jersey Ave &amp; F St NW&quot;</td><td>31655</td><td>38.90304</td><td>-77.019027</td><td>38.897108</td><td>-77.011616</td><td>&quot;member&quot;</td><td>10m 17s</td><td>617</td><td>52</td></tr><tr><td>&quot;12E5CC8D2DAE1507&quot;</td><td>&quot;classic_bike&quot;</td><td>2022-12-05 19:14:05</td><td>2022-12-05 19:22:10</td><td>&quot;5th &amp; K St NW&quot;</td><td>31600</td><td>&quot;New Jersey Ave &amp; F St NW&quot;</td><td>31655</td><td>38.90304</td><td>-77.019027</td><td>38.897108</td><td>-77.011616</td><td>&quot;casual&quot;</td><td>8m 5s</td><td>485</td><td>49</td></tr><tr><td>&quot;207B3857E702843E&quot;</td><td>&quot;electric_bike&quot;</td><td>2022-12-05 12:51:38</td><td>2022-12-05 12:56:16</td><td>&quot;5th &amp; K St NW&quot;</td><td>31600</td><td>&quot;New Jersey Ave &amp; F St NW&quot;</td><td>31655</td><td>38.903068</td><td>-77.018793</td><td>38.897108</td><td>-77.011616</td><td>&quot;casual&quot;</td><td>4m 38s</td><td>278</td><td>49</td></tr><tr><td>&quot;DC8A0AA7E8375123&quot;</td><td>&quot;classic_bike&quot;</td><td>2022-12-09 17:07:36</td><td>2022-12-09 17:14:54</td><td>&quot;5th &amp; K St NW&quot;</td><td>31600</td><td>&quot;New Jersey Ave &amp; F St NW&quot;</td><td>31655</td><td>38.90304</td><td>-77.019027</td><td>38.897108</td><td>-77.011616</td><td>&quot;member&quot;</td><td>7m 18s</td><td>438</td><td>49</td></tr><tr><td>&quot;7C0F89F62865282A&quot;</td><td>&quot;classic_bike&quot;</td><td>2022-12-31 13:11:35</td><td>2022-12-31 13:15:39</td><td>&quot;Tanger Outlets&quot;</td><td>32415</td><td>&quot;Oxon Hill Park &amp; Ride&quot;</td><td>32407</td><td>38.7968</td><td>-77.0026</td><td>38.798749</td><td>-77.00103</td><td>&quot;member&quot;</td><td>4m 4s</td><td>244</td><td>52</td></tr></tbody></table></div>"
      ],
      "text/plain": [
       "shape: (175_233, 16)\n",
       "┌────────────┬────────────┬────────────┬────────────┬───┬───────────┬───────────┬───────────┬──────┐\n",
       "│ ride_id    ┆ rideable_t ┆ started_at ┆ ended_at   ┆ … ┆ member_ca ┆ duration  ┆ duration_ ┆ week │\n",
       "│ ---        ┆ ype        ┆ ---        ┆ ---        ┆   ┆ sual      ┆ ---       ┆ seconds   ┆ ---  │\n",
       "│ str        ┆ ---        ┆ datetime[μ ┆ datetime[μ ┆   ┆ ---       ┆ duration[ ┆ ---       ┆ i8   │\n",
       "│            ┆ str        ┆ s]         ┆ s]         ┆   ┆ str       ┆ μs]       ┆ i64       ┆      │\n",
       "╞════════════╪════════════╪════════════╪════════════╪═══╪═══════════╪═══════════╪═══════════╪══════╡\n",
       "│ 1C109AA07D ┆ classic_bi ┆ 2022-12-02 ┆ 2022-12-02 ┆ … ┆ member    ┆ 3m 15s    ┆ 195       ┆ 48   │\n",
       "│ 71B300     ┆ ke         ┆ 11:59:29   ┆ 12:02:44   ┆   ┆           ┆           ┆           ┆      │\n",
       "│ DD4F1F66AC ┆ classic_bi ┆ 2022-12-14 ┆ 2022-12-14 ┆ … ┆ member    ┆ 37m 39s   ┆ 2259      ┆ 50   │\n",
       "│ D60BDA     ┆ ke         ┆ 19:09:35   ┆ 19:47:14   ┆   ┆           ┆           ┆           ┆      │\n",
       "│ B109378ACE ┆ classic_bi ┆ 2022-12-03 ┆ 2022-12-03 ┆ … ┆ member    ┆ 1m 16s    ┆ 76        ┆ 48   │\n",
       "│ A4F614     ┆ ke         ┆ 14:21:50   ┆ 14:23:06   ┆   ┆           ┆           ┆           ┆      │\n",
       "│ BC5B3C71DD ┆ classic_bi ┆ 2022-12-19 ┆ 2022-12-19 ┆ … ┆ member    ┆ 11m 19s   ┆ 679       ┆ 51   │\n",
       "│ D1A782     ┆ ke         ┆ 14:28:28   ┆ 14:39:47   ┆   ┆           ┆           ┆           ┆      │\n",
       "│ ED7903CC03 ┆ classic_bi ┆ 2022-12-07 ┆ 2022-12-07 ┆ … ┆ member    ┆ 2m 50s    ┆ 170       ┆ 49   │\n",
       "│ 50847E     ┆ ke         ┆ 13:46:30   ┆ 13:49:20   ┆   ┆           ┆           ┆           ┆      │\n",
       "│ …          ┆ …          ┆ …          ┆ …          ┆ … ┆ …         ┆ …         ┆ …         ┆ …    │\n",
       "│ 99A72D09AA ┆ classic_bi ┆ 2022-12-29 ┆ 2022-12-29 ┆ … ┆ member    ┆ 10m 17s   ┆ 617       ┆ 52   │\n",
       "│ 13F4F9     ┆ ke         ┆ 11:50:13   ┆ 12:00:30   ┆   ┆           ┆           ┆           ┆      │\n",
       "│ 12E5CC8D2D ┆ classic_bi ┆ 2022-12-05 ┆ 2022-12-05 ┆ … ┆ casual    ┆ 8m 5s     ┆ 485       ┆ 49   │\n",
       "│ AE1507     ┆ ke         ┆ 19:14:05   ┆ 19:22:10   ┆   ┆           ┆           ┆           ┆      │\n",
       "│ 207B3857E7 ┆ electric_b ┆ 2022-12-05 ┆ 2022-12-05 ┆ … ┆ casual    ┆ 4m 38s    ┆ 278       ┆ 49   │\n",
       "│ 02843E     ┆ ike        ┆ 12:51:38   ┆ 12:56:16   ┆   ┆           ┆           ┆           ┆      │\n",
       "│ DC8A0AA7E8 ┆ classic_bi ┆ 2022-12-09 ┆ 2022-12-09 ┆ … ┆ member    ┆ 7m 18s    ┆ 438       ┆ 49   │\n",
       "│ 375123     ┆ ke         ┆ 17:07:36   ┆ 17:14:54   ┆   ┆           ┆           ┆           ┆      │\n",
       "│ 7C0F89F628 ┆ classic_bi ┆ 2022-12-31 ┆ 2022-12-31 ┆ … ┆ member    ┆ 4m 4s     ┆ 244       ┆ 52   │\n",
       "│ 65282A     ┆ ke         ┆ 13:11:35   ┆ 13:15:39   ┆   ┆           ┆           ┆           ┆      │\n",
       "└────────────┴────────────┴────────────┴────────────┴───┴───────────┴───────────┴───────────┴──────┘"
      ]
     },
     "execution_count": 14,
     "metadata": {},
     "output_type": "execute_result"
    }
   ],
   "source": [
    "schema = {\n",
    "    'ride_id': pl.String,\n",
    "    'rideable_type': pl.String,\n",
    "    'started_at': pl.String,\n",
    "    'ended_at': pl.String,  \n",
    "    'start_station_name': pl.String,\n",
    "    'start_station_id': pl.Int64,\n",
    "    'end_station_name': pl.String,\n",
    "    'end_station_id': pl.Int64,\n",
    "    'start_lat': pl.Float64,\n",
    "    'start_lng': pl.Float64,\n",
    "    'end_lat': pl.Float64,\n",
    "    'end_lng': pl.Float64,\n",
    "    'member_casual': pl.String\n",
    "}\n",
    "\n",
    "data = pl.DataFrame(data, schema=schema)\n",
    "\n",
    "# # convert the string data time to datetime\n",
    "# data = data.with_columns(\n",
    "#     pl.col('started_at').str.to_datetime(),\n",
    "#     pl.col('ended_at').str.to_datetime()\n",
    "# )\n",
    "\n",
    "\n",
    "# data = data.with_columns(\n",
    "#     (pl.col('ended_at') - pl.col('started_at')).alias('duration')\n",
    "# )\n",
    "\n",
    "# data = data.with_columns(\n",
    "#     pl.col('duration').dt.total_seconds().alias('duration_seconds')\n",
    "# )\n",
    "\n",
    "\n",
    "# data = data.with_columns(\n",
    "#     pl.col('ended_at').dt.week().alias('week')\n",
    "# )\n",
    "\n",
    "\n",
    "df = data.with_columns([\n",
    "    pl.col('started_at').str.to_datetime(),\n",
    "    pl.col('ended_at').str.to_datetime(),\n",
    "    (pl.col('ended_at').str.to_datetime() - pl.col('started_at').str.to_datetime()).alias('duration'),\n",
    "    (pl.col('ended_at').str.to_datetime() - pl.col('started_at').str.to_datetime())\n",
    "        .dt.total_seconds().alias('duration_seconds'),\n",
    "    pl.col('ended_at').str.to_datetime().dt.week().alias('week')\n",
    "])\n",
    "\n",
    "df\n"
   ]
  },
  {
   "cell_type": "code",
   "execution_count": null,
   "id": "409ae317",
   "metadata": {},
   "outputs": [
    {
     "data": {
      "text/html": [
       "<div><style>\n",
       ".dataframe > thead > tr,\n",
       ".dataframe > tbody > tr {\n",
       "  text-align: right;\n",
       "  white-space: pre-wrap;\n",
       "}\n",
       "</style>\n",
       "<small>shape: (175_233, 16)</small><table border=\"1\" class=\"dataframe\"><thead><tr><th>ride_id</th><th>rideable_type</th><th>started_at</th><th>ended_at</th><th>start_station_name</th><th>start_station_id</th><th>end_station_name</th><th>end_station_id</th><th>start_lat</th><th>start_lng</th><th>end_lat</th><th>end_lng</th><th>member_casual</th><th>duration</th><th>duration_seconds</th><th>week</th></tr><tr><td>str</td><td>str</td><td>datetime[μs]</td><td>datetime[μs]</td><td>str</td><td>i64</td><td>str</td><td>i64</td><td>f64</td><td>f64</td><td>f64</td><td>f64</td><td>str</td><td>duration[μs]</td><td>i64</td><td>i8</td></tr></thead><tbody><tr><td>&quot;F208903A9962E502&quot;</td><td>&quot;electric_bike&quot;</td><td>2022-12-14 18:45:40</td><td>2022-12-14 19:13:06</td><td>&quot;16th &amp; Harvard St NW&quot;</td><td>31135</td><td>&quot;10th &amp; E St NW&quot;</td><td>31256</td><td>38.92615</td><td>-77.036683</td><td>38.895914</td><td>-77.026064</td><td>&quot;member&quot;</td><td>27m 26s</td><td>1646</td><td>50</td></tr><tr><td>&quot;DF3D6AD7D3BBB5DB&quot;</td><td>&quot;electric_bike&quot;</td><td>2022-12-11 16:00:46</td><td>2022-12-11 16:09:55</td><td>&quot;Fort Totten Metro&quot;</td><td>31515</td><td>&quot;5th &amp; Kennedy St NW&quot;</td><td>31403</td><td>38.952357</td><td>-77.002675</td><td>38.956556</td><td>-77.019814</td><td>&quot;casual&quot;</td><td>9m 9s</td><td>549</td><td>49</td></tr><tr><td>&quot;82B36099FD06BC1B&quot;</td><td>&quot;electric_bike&quot;</td><td>2022-12-16 15:34:09</td><td>2022-12-16 15:53:04</td><td>&quot;Virginia Theological Seminary&quot;</td><td>31964</td><td>&quot;Henry St &amp; Pendleton St&quot;</td><td>31046</td><td>38.820114</td><td>-77.09398</td><td>38.811456</td><td>-77.050276</td><td>&quot;casual&quot;</td><td>18m 55s</td><td>1135</td><td>50</td></tr><tr><td>&quot;7D1719E64BBCFEBA&quot;</td><td>&quot;classic_bike&quot;</td><td>2022-12-23 12:36:22</td><td>2022-12-23 12:39:42</td><td>&quot;Georgetown Harbor / 30th St NW&quot;</td><td>31215</td><td>&quot;Kennedy Center&quot;</td><td>31211</td><td>38.902314</td><td>-77.059141</td><td>38.897293</td><td>-77.05557</td><td>&quot;member&quot;</td><td>3m 20s</td><td>200</td><td>51</td></tr><tr><td>&quot;9FDD9F9F194C5AE8&quot;</td><td>&quot;classic_bike&quot;</td><td>2022-12-05 15:05:46</td><td>2022-12-05 15:18:30</td><td>&quot;Reservoir Rd &amp; 38th St NW&quot;</td><td>31325</td><td>&quot;Connecticut Ave &amp; R St NW&quot;</td><td>31299</td><td>38.912614</td><td>-77.074323</td><td>38.912644</td><td>-77.04564</td><td>&quot;member&quot;</td><td>12m 44s</td><td>764</td><td>49</td></tr><tr><td>&hellip;</td><td>&hellip;</td><td>&hellip;</td><td>&hellip;</td><td>&hellip;</td><td>&hellip;</td><td>&hellip;</td><td>&hellip;</td><td>&hellip;</td><td>&hellip;</td><td>&hellip;</td><td>&hellip;</td><td>&hellip;</td><td>&hellip;</td><td>&hellip;</td><td>&hellip;</td></tr><tr><td>&quot;01B1D9691B663046&quot;</td><td>&quot;electric_bike&quot;</td><td>2022-12-27 14:31:34</td><td>2022-12-27 14:37:19</td><td>&quot;4th &amp; D St NW / Judiciary Squa…</td><td>31621</td><td>&quot;Constitution Ave &amp; 2nd St NW/D…</td><td>31271</td><td>38.895579</td><td>-77.01615</td><td>38.892275</td><td>-77.013917</td><td>&quot;casual&quot;</td><td>5m 45s</td><td>345</td><td>52</td></tr><tr><td>&quot;86FD01AB08E140A6&quot;</td><td>&quot;electric_bike&quot;</td><td>2022-12-05 15:30:40</td><td>2022-12-05 15:44:35</td><td>&quot;7th &amp; S St NW&quot;</td><td>31130</td><td>&quot;M St &amp; Pennsylvania Ave NW&quot;</td><td>31246</td><td>38.91424</td><td>-77.021633</td><td>38.905126</td><td>-77.056887</td><td>&quot;member&quot;</td><td>13m 55s</td><td>835</td><td>49</td></tr><tr><td>&quot;75B1A97E743BC981&quot;</td><td>&quot;docked_bike&quot;</td><td>2022-12-30 12:11:04</td><td>2022-12-30 12:54:08</td><td>&quot;Kennedy Center&quot;</td><td>31211</td><td>&quot;4th St &amp; Madison Dr NW&quot;</td><td>31288</td><td>38.897293</td><td>-77.05557</td><td>38.890496</td><td>-77.017247</td><td>&quot;casual&quot;</td><td>43m 4s</td><td>2584</td><td>52</td></tr><tr><td>&quot;E4D1784878D86B74&quot;</td><td>&quot;classic_bike&quot;</td><td>2022-12-28 11:32:02</td><td>2022-12-28 12:05:22</td><td>&quot;Jefferson Memorial&quot;</td><td>31249</td><td>&quot;Ohio Dr &amp; West Basin Dr SW / M…</td><td>31240</td><td>38.879819</td><td>-77.037413</td><td>38.88412</td><td>-77.04657</td><td>&quot;casual&quot;</td><td>33m 20s</td><td>2000</td><td>52</td></tr><tr><td>&quot;F5623ADF11D1DC9D&quot;</td><td>&quot;electric_bike&quot;</td><td>2022-12-30 12:44:47</td><td>2022-12-30 13:22:07</td><td>null</td><td>null</td><td>&quot;Lincoln Memorial&quot;</td><td>31258</td><td>38.9</td><td>-77.01</td><td>38.888255</td><td>-77.049436</td><td>&quot;casual&quot;</td><td>37m 20s</td><td>2240</td><td>52</td></tr></tbody></table></div>"
      ],
      "text/plain": [
       "shape: (175_233, 16)\n",
       "┌────────────┬────────────┬────────────┬────────────┬───┬───────────┬───────────┬───────────┬──────┐\n",
       "│ ride_id    ┆ rideable_t ┆ started_at ┆ ended_at   ┆ … ┆ member_ca ┆ duration  ┆ duration_ ┆ week │\n",
       "│ ---        ┆ ype        ┆ ---        ┆ ---        ┆   ┆ sual      ┆ ---       ┆ seconds   ┆ ---  │\n",
       "│ str        ┆ ---        ┆ datetime[μ ┆ datetime[μ ┆   ┆ ---       ┆ duration[ ┆ ---       ┆ i8   │\n",
       "│            ┆ str        ┆ s]         ┆ s]         ┆   ┆ str       ┆ μs]       ┆ i64       ┆      │\n",
       "╞════════════╪════════════╪════════════╪════════════╪═══╪═══════════╪═══════════╪═══════════╪══════╡\n",
       "│ F208903A99 ┆ electric_b ┆ 2022-12-14 ┆ 2022-12-14 ┆ … ┆ member    ┆ 27m 26s   ┆ 1646      ┆ 50   │\n",
       "│ 62E502     ┆ ike        ┆ 18:45:40   ┆ 19:13:06   ┆   ┆           ┆           ┆           ┆      │\n",
       "│ DF3D6AD7D3 ┆ electric_b ┆ 2022-12-11 ┆ 2022-12-11 ┆ … ┆ casual    ┆ 9m 9s     ┆ 549       ┆ 49   │\n",
       "│ BBB5DB     ┆ ike        ┆ 16:00:46   ┆ 16:09:55   ┆   ┆           ┆           ┆           ┆      │\n",
       "│ 82B36099FD ┆ electric_b ┆ 2022-12-16 ┆ 2022-12-16 ┆ … ┆ casual    ┆ 18m 55s   ┆ 1135      ┆ 50   │\n",
       "│ 06BC1B     ┆ ike        ┆ 15:34:09   ┆ 15:53:04   ┆   ┆           ┆           ┆           ┆      │\n",
       "│ 7D1719E64B ┆ classic_bi ┆ 2022-12-23 ┆ 2022-12-23 ┆ … ┆ member    ┆ 3m 20s    ┆ 200       ┆ 51   │\n",
       "│ BCFEBA     ┆ ke         ┆ 12:36:22   ┆ 12:39:42   ┆   ┆           ┆           ┆           ┆      │\n",
       "│ 9FDD9F9F19 ┆ classic_bi ┆ 2022-12-05 ┆ 2022-12-05 ┆ … ┆ member    ┆ 12m 44s   ┆ 764       ┆ 49   │\n",
       "│ 4C5AE8     ┆ ke         ┆ 15:05:46   ┆ 15:18:30   ┆   ┆           ┆           ┆           ┆      │\n",
       "│ …          ┆ …          ┆ …          ┆ …          ┆ … ┆ …         ┆ …         ┆ …         ┆ …    │\n",
       "│ 01B1D9691B ┆ electric_b ┆ 2022-12-27 ┆ 2022-12-27 ┆ … ┆ casual    ┆ 5m 45s    ┆ 345       ┆ 52   │\n",
       "│ 663046     ┆ ike        ┆ 14:31:34   ┆ 14:37:19   ┆   ┆           ┆           ┆           ┆      │\n",
       "│ 86FD01AB08 ┆ electric_b ┆ 2022-12-05 ┆ 2022-12-05 ┆ … ┆ member    ┆ 13m 55s   ┆ 835       ┆ 49   │\n",
       "│ E140A6     ┆ ike        ┆ 15:30:40   ┆ 15:44:35   ┆   ┆           ┆           ┆           ┆      │\n",
       "│ 75B1A97E74 ┆ docked_bik ┆ 2022-12-30 ┆ 2022-12-30 ┆ … ┆ casual    ┆ 43m 4s    ┆ 2584      ┆ 52   │\n",
       "│ 3BC981     ┆ e          ┆ 12:11:04   ┆ 12:54:08   ┆   ┆           ┆           ┆           ┆      │\n",
       "│ E4D1784878 ┆ classic_bi ┆ 2022-12-28 ┆ 2022-12-28 ┆ … ┆ casual    ┆ 33m 20s   ┆ 2000      ┆ 52   │\n",
       "│ D86B74     ┆ ke         ┆ 11:32:02   ┆ 12:05:22   ┆   ┆           ┆           ┆           ┆      │\n",
       "│ F5623ADF11 ┆ electric_b ┆ 2022-12-30 ┆ 2022-12-30 ┆ … ┆ casual    ┆ 37m 20s   ┆ 2240      ┆ 52   │\n",
       "│ D1DC9D     ┆ ike        ┆ 12:44:47   ┆ 13:22:07   ┆   ┆           ┆           ┆           ┆      │\n",
       "└────────────┴────────────┴────────────┴────────────┴───┴───────────┴───────────┴───────────┴──────┘"
      ]
     },
     "execution_count": 292,
     "metadata": {},
     "output_type": "execute_result"
    }
   ],
   "source": [
    "df = data.unique(subset='ride_id')\n",
    "df"
   ]
  },
  {
   "cell_type": "markdown",
   "id": "b4c35d68",
   "metadata": {},
   "source": []
  },
  {
   "cell_type": "code",
   "execution_count": null,
   "id": "343ce772",
   "metadata": {},
   "outputs": [
    {
     "data": {
      "text/html": [
       "<div><style>\n",
       ".dataframe > thead > tr,\n",
       ".dataframe > tbody > tr {\n",
       "  text-align: right;\n",
       "  white-space: pre-wrap;\n",
       "}\n",
       "</style>\n",
       "<small>shape: (3, 2)</small><table border=\"1\" class=\"dataframe\"><thead><tr><th>rideable_type</th><th>count</th></tr><tr><td>str</td><td>u32</td></tr></thead><tbody><tr><td>&quot;electric_bike&quot;</td><td>29199</td></tr><tr><td>&quot;classic_bike&quot;</td><td>140796</td></tr><tr><td>&quot;docked_bike&quot;</td><td>5238</td></tr></tbody></table></div>"
      ],
      "text/plain": [
       "shape: (3, 2)\n",
       "┌───────────────┬────────┐\n",
       "│ rideable_type ┆ count  │\n",
       "│ ---           ┆ ---    │\n",
       "│ str           ┆ u32    │\n",
       "╞═══════════════╪════════╡\n",
       "│ electric_bike ┆ 29199  │\n",
       "│ classic_bike  ┆ 140796 │\n",
       "│ docked_bike   ┆ 5238   │\n",
       "└───────────────┴────────┘"
      ]
     },
     "execution_count": 293,
     "metadata": {},
     "output_type": "execute_result"
    }
   ],
   "source": [
    "data.select(pl.col('rideable_type').value_counts()).unnest('rideable_type')"
   ]
  },
  {
   "cell_type": "code",
   "execution_count": null,
   "id": "281c49d5",
   "metadata": {},
   "outputs": [
    {
     "data": {
      "text/html": [
       "<div><style>\n",
       ".dataframe > thead > tr,\n",
       ".dataframe > tbody > tr {\n",
       "  text-align: right;\n",
       "  white-space: pre-wrap;\n",
       "}\n",
       "</style>\n",
       "<small>shape: (714, 2)</small><table border=\"1\" class=\"dataframe\"><thead><tr><th>start_station_name</th><th>count</th></tr><tr><td>str</td><td>u32</td></tr></thead><tbody><tr><td>&quot;Garland Ave &amp; Walden Rd&quot;</td><td>12</td></tr><tr><td>&quot;King Farm Blvd &amp; Pleasant Dr&quot;</td><td>17</td></tr><tr><td>&quot;37th &amp; Ely Pl SE&quot;</td><td>4</td></tr><tr><td>&quot;15th &amp; K St NW&quot;</td><td>440</td></tr><tr><td>&quot;E Fairfax St &amp; S Washington St&quot;</td><td>15</td></tr><tr><td>&hellip;</td><td>&hellip;</td></tr><tr><td>&quot;S Four Mile Run Dr &amp; Shirlingt…</td><td>19</td></tr><tr><td>&quot;Frederick Ave &amp; Horners Ln&quot;</td><td>5</td></tr><tr><td>&quot;2nd St &amp; Massachusetts Ave NE&quot;</td><td>724</td></tr><tr><td>&quot;Carroll &amp; Westmoreland Ave&quot;</td><td>79</td></tr><tr><td>&quot;5th &amp; F St NW&quot;</td><td>516</td></tr></tbody></table></div>"
      ],
      "text/plain": [
       "shape: (714, 2)\n",
       "┌─────────────────────────────────┬───────┐\n",
       "│ start_station_name              ┆ count │\n",
       "│ ---                             ┆ ---   │\n",
       "│ str                             ┆ u32   │\n",
       "╞═════════════════════════════════╪═══════╡\n",
       "│ Garland Ave & Walden Rd         ┆ 12    │\n",
       "│ King Farm Blvd & Pleasant Dr    ┆ 17    │\n",
       "│ 37th & Ely Pl SE                ┆ 4     │\n",
       "│ 15th & K St NW                  ┆ 440   │\n",
       "│ E Fairfax St & S Washington St  ┆ 15    │\n",
       "│ …                               ┆ …     │\n",
       "│ S Four Mile Run Dr & Shirlingt… ┆ 19    │\n",
       "│ Frederick Ave & Horners Ln      ┆ 5     │\n",
       "│ 2nd St & Massachusetts Ave NE   ┆ 724   │\n",
       "│ Carroll & Westmoreland Ave      ┆ 79    │\n",
       "│ 5th & F St NW                   ┆ 516   │\n",
       "└─────────────────────────────────┴───────┘"
      ]
     },
     "execution_count": 294,
     "metadata": {},
     "output_type": "execute_result"
    }
   ],
   "source": [
    "data.select(pl.col('start_station_name').value_counts()).unnest('start_station_name')"
   ]
  },
  {
   "cell_type": "code",
   "execution_count": null,
   "id": "141e299d",
   "metadata": {},
   "outputs": [
    {
     "data": {
      "text/html": [
       "<div><style>\n",
       ".dataframe > thead > tr,\n",
       ".dataframe > tbody > tr {\n",
       "  text-align: right;\n",
       "  white-space: pre-wrap;\n",
       "}\n",
       "</style>\n",
       "<small>shape: (2, 2)</small><table border=\"1\" class=\"dataframe\"><thead><tr><th>member_casual</th><th>count</th></tr><tr><td>str</td><td>u32</td></tr></thead><tbody><tr><td>&quot;member&quot;</td><td>121020</td></tr><tr><td>&quot;casual&quot;</td><td>54213</td></tr></tbody></table></div>"
      ],
      "text/plain": [
       "shape: (2, 2)\n",
       "┌───────────────┬────────┐\n",
       "│ member_casual ┆ count  │\n",
       "│ ---           ┆ ---    │\n",
       "│ str           ┆ u32    │\n",
       "╞═══════════════╪════════╡\n",
       "│ member        ┆ 121020 │\n",
       "│ casual        ┆ 54213  │\n",
       "└───────────────┴────────┘"
      ]
     },
     "execution_count": 295,
     "metadata": {},
     "output_type": "execute_result"
    }
   ],
   "source": [
    "data.select(pl.col('member_casual').value_counts()).unnest('member_casual')"
   ]
  },
  {
   "cell_type": "code",
   "execution_count": null,
   "id": "a2c696c2",
   "metadata": {},
   "outputs": [],
   "source": []
  },
  {
   "cell_type": "code",
   "execution_count": null,
   "id": "809fee9c",
   "metadata": {},
   "outputs": [],
   "source": [
    "#3 flag data with 45mins ride and above (45min = 2700secs)\n",
    "# - A casual rider starts a trip at midnight\n",
    "# - Any ride lasts longer than 45 minutes\n",
    "import logging\n",
    "\n",
    "# Setup logging to a file\n",
    "logger = logging.getLogger(__name__)\n",
    "logger.setLevel(logging.WARNING)\n",
    "file_handler = logging.FileHandler('ride_flags.log')\n",
    "formatter = logging.Formatter('%(asctime)s - %(message)s')\n",
    "file_handler.setFormatter(formatter)\n",
    "logger.addHandler(file_handler)\n",
    "\n",
    "def log_flagged_data(func):\n",
    "    \"\"\"log flagged data\"\"\"\n",
    "    def wrapper(*args, **kwargs):\n",
    "        flagged_data = func(*args, **kwargs)\n",
    "        logger.warning(f\"Logged flagged data: {flagged_data} rows\")\n",
    "        yield flagged_data\n",
    "    return wrapper\n",
    "\n",
    "@log_flagged_data\n",
    "def flag_longer_ride(df, col_name):\n",
    "    \"\"\"Flag longer rides (over 27,000 seconds, ~45 minutes)\"\"\"\n",
    "    flagged_df = df.filter(pl.col(col_name) > 27000)\n",
    "    print(flagged_df)\n",
    "    yield logger.warning(f\"Flagged rides with duration greater than 45 minutes: {flagged_df} rows\")\n",
    "\n",
    "@log_flagged_data\n",
    "def flag_later_hour_ride(df, col_name):\n",
    "    \"\"\"Flag rides that occurred later than 23:30:00\"\"\"\n",
    "    flagged_df = df.filter(pl.col(col_name).dt.hour() >=23 & pl.col(col_name).dt.minute() >=59)\n",
    "    flagged_df.collect()\n",
    "    yield logger.warning(f\"Flagged rides later than 23:30:00:{flagged_df} rows\")\n",
    "\n",
    "\n",
    "for df in flag_later_hour_ride(data,\"ended_at\"):\n",
    "    df\n",
    "\n",
    "for df in flag_longer_ride(df, \"duration_seconds\"):\n",
    "    df"
   ]
  },
  {
   "cell_type": "markdown",
   "id": "fdd51962",
   "metadata": {},
   "source": [
    "Partitioned Data using polars"
   ]
  },
  {
   "cell_type": "code",
   "execution_count": null,
   "id": "e51134b9",
   "metadata": {},
   "outputs": [],
   "source": [
    "data.write_parquet(f'capitalbikeshare-tripdata_{time_stamp}.parquet',\n",
    "    partition_by=['member_casual','week']\n",
    ")"
   ]
  },
  {
   "cell_type": "code",
   "execution_count": null,
   "id": "60712daa",
   "metadata": {},
   "outputs": [
    {
     "data": {
      "text/plain": [
       "<generator object log_flagged_data.<locals>.wrapper at 0x00000211044853F0>"
      ]
     },
     "execution_count": 298,
     "metadata": {},
     "output_type": "execute_result"
    }
   ],
   "source": [
    "def flag_longer_ride(df, col_name):\n",
    "    \"\"\"Flag longer rides (over 27,000 seconds, ~45 minutes)\"\"\"\n",
    "    flagged_df = df.filter(pl.col(col_name) > 27000)\n",
    "    yield flagged_df.show()\n",
    "    # yield logger.warning(f\"Flagged rides with duration greater than 45 minutes: {flagged_df} rows\")\n",
    "\n",
    "flag_later_hour_ride(data,\"ended_at\") "
   ]
  },
  {
   "cell_type": "code",
   "execution_count": null,
   "id": "c551a17c",
   "metadata": {},
   "outputs": [
    {
     "data": {
      "text/html": [
       "<div><style>\n",
       ".dataframe > thead > tr,\n",
       ".dataframe > tbody > tr {\n",
       "  text-align: right;\n",
       "  white-space: pre-wrap;\n",
       "}\n",
       "</style>\n",
       "<small>shape: (5, 16)</small><table border=\"1\" class=\"dataframe\"><thead><tr><th>ride_id</th><th>rideable_type</th><th>started_at</th><th>ended_at</th><th>start_station_name</th><th>start_station_id</th><th>end_station_name</th><th>end_station_id</th><th>start_lat</th><th>start_lng</th><th>end_lat</th><th>end_lng</th><th>member_casual</th><th>duration</th><th>duration_seconds</th><th>week</th></tr><tr><td>str</td><td>str</td><td>datetime[μs]</td><td>datetime[μs]</td><td>str</td><td>i64</td><td>str</td><td>i64</td><td>f64</td><td>f64</td><td>f64</td><td>f64</td><td>str</td><td>duration[μs]</td><td>i64</td><td>i8</td></tr></thead><tbody><tr><td>&quot;1C109AA07D71B300&quot;</td><td>&quot;classic_bike&quot;</td><td>2022-12-02 11:59:29</td><td>2022-12-02 12:02:44</td><td>&quot;17th St &amp; Massachusetts Ave NW&quot;</td><td>31267</td><td>&quot;Massachusetts Ave &amp; Dupont Cir…</td><td>31200</td><td>38.908142</td><td>-77.038359</td><td>38.9101</td><td>-77.0444</td><td>&quot;member&quot;</td><td>3m 15s</td><td>195</td><td>48</td></tr><tr><td>&quot;DD4F1F66ACD60BDA&quot;</td><td>&quot;classic_bike&quot;</td><td>2022-12-14 19:09:35</td><td>2022-12-14 19:47:14</td><td>&quot;C &amp; O Canal &amp; Wisconsin Ave NW&quot;</td><td>31225</td><td>&quot;8th &amp; F St NE&quot;</td><td>31631</td><td>38.90375</td><td>-77.06269</td><td>38.897274</td><td>-76.994749</td><td>&quot;member&quot;</td><td>37m 39s</td><td>2259</td><td>50</td></tr><tr><td>&quot;B109378ACEA4F614&quot;</td><td>&quot;classic_bike&quot;</td><td>2022-12-03 14:21:50</td><td>2022-12-03 14:23:06</td><td>&quot;Potomac Ave &amp; 35th St S&quot;</td><td>31052</td><td>&quot;S Clark St &amp; 33rd St&quot;</td><td>31944</td><td>38.844015</td><td>-77.050537</td><td>38.845028</td><td>-77.051956</td><td>&quot;member&quot;</td><td>1m 16s</td><td>76</td><td>48</td></tr><tr><td>&quot;BC5B3C71DDD1A782&quot;</td><td>&quot;classic_bike&quot;</td><td>2022-12-19 14:28:28</td><td>2022-12-19 14:39:47</td><td>&quot;Market Square / King St &amp; Roya…</td><td>31042</td><td>&quot;Potomac Greens Dr &amp; Slaters Ln&quot;</td><td>31083</td><td>38.804718</td><td>-77.043363</td><td>38.82175</td><td>-77.047494</td><td>&quot;member&quot;</td><td>11m 19s</td><td>679</td><td>51</td></tr><tr><td>&quot;ED7903CC0350847E&quot;</td><td>&quot;classic_bike&quot;</td><td>2022-12-07 13:46:30</td><td>2022-12-07 13:49:20</td><td>&quot;Market Square / King St &amp; Roya…</td><td>31042</td><td>&quot;King St &amp; Patrick St&quot;</td><td>31044</td><td>38.804718</td><td>-77.043363</td><td>38.805317</td><td>-77.049883</td><td>&quot;member&quot;</td><td>2m 50s</td><td>170</td><td>49</td></tr></tbody></table></div>"
      ],
      "text/plain": [
       "shape: (5, 16)\n",
       "┌────────────┬────────────┬────────────┬────────────┬───┬───────────┬───────────┬───────────┬──────┐\n",
       "│ ride_id    ┆ rideable_t ┆ started_at ┆ ended_at   ┆ … ┆ member_ca ┆ duration  ┆ duration_ ┆ week │\n",
       "│ ---        ┆ ype        ┆ ---        ┆ ---        ┆   ┆ sual      ┆ ---       ┆ seconds   ┆ ---  │\n",
       "│ str        ┆ ---        ┆ datetime[μ ┆ datetime[μ ┆   ┆ ---       ┆ duration[ ┆ ---       ┆ i8   │\n",
       "│            ┆ str        ┆ s]         ┆ s]         ┆   ┆ str       ┆ μs]       ┆ i64       ┆      │\n",
       "╞════════════╪════════════╪════════════╪════════════╪═══╪═══════════╪═══════════╪═══════════╪══════╡\n",
       "│ 1C109AA07D ┆ classic_bi ┆ 2022-12-02 ┆ 2022-12-02 ┆ … ┆ member    ┆ 3m 15s    ┆ 195       ┆ 48   │\n",
       "│ 71B300     ┆ ke         ┆ 11:59:29   ┆ 12:02:44   ┆   ┆           ┆           ┆           ┆      │\n",
       "│ DD4F1F66AC ┆ classic_bi ┆ 2022-12-14 ┆ 2022-12-14 ┆ … ┆ member    ┆ 37m 39s   ┆ 2259      ┆ 50   │\n",
       "│ D60BDA     ┆ ke         ┆ 19:09:35   ┆ 19:47:14   ┆   ┆           ┆           ┆           ┆      │\n",
       "│ B109378ACE ┆ classic_bi ┆ 2022-12-03 ┆ 2022-12-03 ┆ … ┆ member    ┆ 1m 16s    ┆ 76        ┆ 48   │\n",
       "│ A4F614     ┆ ke         ┆ 14:21:50   ┆ 14:23:06   ┆   ┆           ┆           ┆           ┆      │\n",
       "│ BC5B3C71DD ┆ classic_bi ┆ 2022-12-19 ┆ 2022-12-19 ┆ … ┆ member    ┆ 11m 19s   ┆ 679       ┆ 51   │\n",
       "│ D1A782     ┆ ke         ┆ 14:28:28   ┆ 14:39:47   ┆   ┆           ┆           ┆           ┆      │\n",
       "│ ED7903CC03 ┆ classic_bi ┆ 2022-12-07 ┆ 2022-12-07 ┆ … ┆ member    ┆ 2m 50s    ┆ 170       ┆ 49   │\n",
       "│ 50847E     ┆ ke         ┆ 13:46:30   ┆ 13:49:20   ┆   ┆           ┆           ┆           ┆      │\n",
       "└────────────┴────────────┴────────────┴────────────┴───┴───────────┴───────────┴───────────┴──────┘"
      ]
     },
     "execution_count": 299,
     "metadata": {},
     "output_type": "execute_result"
    }
   ],
   "source": [
    "data.head()"
   ]
  },
  {
   "cell_type": "code",
   "execution_count": null,
   "id": "df86fda4",
   "metadata": {},
   "outputs": [
    {
     "data": {
      "text/html": [
       "<div><style>\n",
       ".dataframe > thead > tr,\n",
       ".dataframe > tbody > tr {\n",
       "  text-align: right;\n",
       "  white-space: pre-wrap;\n",
       "}\n",
       "</style>\n",
       "<small>shape: (175_233, 16)</small><table border=\"1\" class=\"dataframe\"><thead><tr><th>ride_id</th><th>rideable_type</th><th>started_at</th><th>ended_at</th><th>start_station_name</th><th>start_station_id</th><th>end_station_name</th><th>end_station_id</th><th>start_lat</th><th>start_lng</th><th>end_lat</th><th>end_lng</th><th>member_casual</th><th>duration</th><th>duration_seconds</th><th>week</th></tr><tr><td>str</td><td>str</td><td>datetime[μs]</td><td>datetime[μs]</td><td>str</td><td>i64</td><td>str</td><td>i64</td><td>f64</td><td>f64</td><td>f64</td><td>f64</td><td>str</td><td>duration[μs]</td><td>i64</td><td>i8</td></tr></thead><tbody><tr><td>&quot;1C109AA07D71B300&quot;</td><td>&quot;classic_bike&quot;</td><td>2022-12-02 11:59:29</td><td>2022-12-02 12:02:44</td><td>&quot;17th St &amp; Massachusetts Ave NW&quot;</td><td>31267</td><td>&quot;Massachusetts Ave &amp; Dupont Cir…</td><td>31200</td><td>38.908142</td><td>-77.038359</td><td>38.9101</td><td>-77.0444</td><td>&quot;member&quot;</td><td>3m 15s</td><td>195</td><td>48</td></tr><tr><td>&quot;DD4F1F66ACD60BDA&quot;</td><td>&quot;classic_bike&quot;</td><td>2022-12-14 19:09:35</td><td>2022-12-14 19:47:14</td><td>&quot;C &amp; O Canal &amp; Wisconsin Ave NW&quot;</td><td>31225</td><td>&quot;8th &amp; F St NE&quot;</td><td>31631</td><td>38.90375</td><td>-77.06269</td><td>38.897274</td><td>-76.994749</td><td>&quot;member&quot;</td><td>37m 39s</td><td>2259</td><td>50</td></tr><tr><td>&quot;B109378ACEA4F614&quot;</td><td>&quot;classic_bike&quot;</td><td>2022-12-03 14:21:50</td><td>2022-12-03 14:23:06</td><td>&quot;Potomac Ave &amp; 35th St S&quot;</td><td>31052</td><td>&quot;S Clark St &amp; 33rd St&quot;</td><td>31944</td><td>38.844015</td><td>-77.050537</td><td>38.845028</td><td>-77.051956</td><td>&quot;member&quot;</td><td>1m 16s</td><td>76</td><td>48</td></tr><tr><td>&quot;BC5B3C71DDD1A782&quot;</td><td>&quot;classic_bike&quot;</td><td>2022-12-19 14:28:28</td><td>2022-12-19 14:39:47</td><td>&quot;Market Square / King St &amp; Roya…</td><td>31042</td><td>&quot;Potomac Greens Dr &amp; Slaters Ln&quot;</td><td>31083</td><td>38.804718</td><td>-77.043363</td><td>38.82175</td><td>-77.047494</td><td>&quot;member&quot;</td><td>11m 19s</td><td>679</td><td>51</td></tr><tr><td>&quot;ED7903CC0350847E&quot;</td><td>&quot;classic_bike&quot;</td><td>2022-12-07 13:46:30</td><td>2022-12-07 13:49:20</td><td>&quot;Market Square / King St &amp; Roya…</td><td>31042</td><td>&quot;King St &amp; Patrick St&quot;</td><td>31044</td><td>38.804718</td><td>-77.043363</td><td>38.805317</td><td>-77.049883</td><td>&quot;member&quot;</td><td>2m 50s</td><td>170</td><td>49</td></tr><tr><td>&hellip;</td><td>&hellip;</td><td>&hellip;</td><td>&hellip;</td><td>&hellip;</td><td>&hellip;</td><td>&hellip;</td><td>&hellip;</td><td>&hellip;</td><td>&hellip;</td><td>&hellip;</td><td>&hellip;</td><td>&hellip;</td><td>&hellip;</td><td>&hellip;</td><td>&hellip;</td></tr><tr><td>&quot;99A72D09AA13F4F9&quot;</td><td>&quot;classic_bike&quot;</td><td>2022-12-29 11:50:13</td><td>2022-12-29 12:00:30</td><td>&quot;5th &amp; K St NW&quot;</td><td>31600</td><td>&quot;New Jersey Ave &amp; F St NW&quot;</td><td>31655</td><td>38.90304</td><td>-77.019027</td><td>38.897108</td><td>-77.011616</td><td>&quot;member&quot;</td><td>10m 17s</td><td>617</td><td>52</td></tr><tr><td>&quot;12E5CC8D2DAE1507&quot;</td><td>&quot;classic_bike&quot;</td><td>2022-12-05 19:14:05</td><td>2022-12-05 19:22:10</td><td>&quot;5th &amp; K St NW&quot;</td><td>31600</td><td>&quot;New Jersey Ave &amp; F St NW&quot;</td><td>31655</td><td>38.90304</td><td>-77.019027</td><td>38.897108</td><td>-77.011616</td><td>&quot;casual&quot;</td><td>8m 5s</td><td>485</td><td>49</td></tr><tr><td>&quot;207B3857E702843E&quot;</td><td>&quot;electric_bike&quot;</td><td>2022-12-05 12:51:38</td><td>2022-12-05 12:56:16</td><td>&quot;5th &amp; K St NW&quot;</td><td>31600</td><td>&quot;New Jersey Ave &amp; F St NW&quot;</td><td>31655</td><td>38.903068</td><td>-77.018793</td><td>38.897108</td><td>-77.011616</td><td>&quot;casual&quot;</td><td>4m 38s</td><td>278</td><td>49</td></tr><tr><td>&quot;DC8A0AA7E8375123&quot;</td><td>&quot;classic_bike&quot;</td><td>2022-12-09 17:07:36</td><td>2022-12-09 17:14:54</td><td>&quot;5th &amp; K St NW&quot;</td><td>31600</td><td>&quot;New Jersey Ave &amp; F St NW&quot;</td><td>31655</td><td>38.90304</td><td>-77.019027</td><td>38.897108</td><td>-77.011616</td><td>&quot;member&quot;</td><td>7m 18s</td><td>438</td><td>49</td></tr><tr><td>&quot;7C0F89F62865282A&quot;</td><td>&quot;classic_bike&quot;</td><td>2022-12-31 13:11:35</td><td>2022-12-31 13:15:39</td><td>&quot;Tanger Outlets&quot;</td><td>32415</td><td>&quot;Oxon Hill Park &amp; Ride&quot;</td><td>32407</td><td>38.7968</td><td>-77.0026</td><td>38.798749</td><td>-77.00103</td><td>&quot;member&quot;</td><td>4m 4s</td><td>244</td><td>52</td></tr></tbody></table></div>"
      ],
      "text/plain": [
       "shape: (175_233, 16)\n",
       "┌────────────┬────────────┬────────────┬────────────┬───┬───────────┬───────────┬───────────┬──────┐\n",
       "│ ride_id    ┆ rideable_t ┆ started_at ┆ ended_at   ┆ … ┆ member_ca ┆ duration  ┆ duration_ ┆ week │\n",
       "│ ---        ┆ ype        ┆ ---        ┆ ---        ┆   ┆ sual      ┆ ---       ┆ seconds   ┆ ---  │\n",
       "│ str        ┆ ---        ┆ datetime[μ ┆ datetime[μ ┆   ┆ ---       ┆ duration[ ┆ ---       ┆ i8   │\n",
       "│            ┆ str        ┆ s]         ┆ s]         ┆   ┆ str       ┆ μs]       ┆ i64       ┆      │\n",
       "╞════════════╪════════════╪════════════╪════════════╪═══╪═══════════╪═══════════╪═══════════╪══════╡\n",
       "│ 1C109AA07D ┆ classic_bi ┆ 2022-12-02 ┆ 2022-12-02 ┆ … ┆ member    ┆ 3m 15s    ┆ 195       ┆ 48   │\n",
       "│ 71B300     ┆ ke         ┆ 11:59:29   ┆ 12:02:44   ┆   ┆           ┆           ┆           ┆      │\n",
       "│ DD4F1F66AC ┆ classic_bi ┆ 2022-12-14 ┆ 2022-12-14 ┆ … ┆ member    ┆ 37m 39s   ┆ 2259      ┆ 50   │\n",
       "│ D60BDA     ┆ ke         ┆ 19:09:35   ┆ 19:47:14   ┆   ┆           ┆           ┆           ┆      │\n",
       "│ B109378ACE ┆ classic_bi ┆ 2022-12-03 ┆ 2022-12-03 ┆ … ┆ member    ┆ 1m 16s    ┆ 76        ┆ 48   │\n",
       "│ A4F614     ┆ ke         ┆ 14:21:50   ┆ 14:23:06   ┆   ┆           ┆           ┆           ┆      │\n",
       "│ BC5B3C71DD ┆ classic_bi ┆ 2022-12-19 ┆ 2022-12-19 ┆ … ┆ member    ┆ 11m 19s   ┆ 679       ┆ 51   │\n",
       "│ D1A782     ┆ ke         ┆ 14:28:28   ┆ 14:39:47   ┆   ┆           ┆           ┆           ┆      │\n",
       "│ ED7903CC03 ┆ classic_bi ┆ 2022-12-07 ┆ 2022-12-07 ┆ … ┆ member    ┆ 2m 50s    ┆ 170       ┆ 49   │\n",
       "│ 50847E     ┆ ke         ┆ 13:46:30   ┆ 13:49:20   ┆   ┆           ┆           ┆           ┆      │\n",
       "│ …          ┆ …          ┆ …          ┆ …          ┆ … ┆ …         ┆ …         ┆ …         ┆ …    │\n",
       "│ 99A72D09AA ┆ classic_bi ┆ 2022-12-29 ┆ 2022-12-29 ┆ … ┆ member    ┆ 10m 17s   ┆ 617       ┆ 52   │\n",
       "│ 13F4F9     ┆ ke         ┆ 11:50:13   ┆ 12:00:30   ┆   ┆           ┆           ┆           ┆      │\n",
       "│ 12E5CC8D2D ┆ classic_bi ┆ 2022-12-05 ┆ 2022-12-05 ┆ … ┆ casual    ┆ 8m 5s     ┆ 485       ┆ 49   │\n",
       "│ AE1507     ┆ ke         ┆ 19:14:05   ┆ 19:22:10   ┆   ┆           ┆           ┆           ┆      │\n",
       "│ 207B3857E7 ┆ electric_b ┆ 2022-12-05 ┆ 2022-12-05 ┆ … ┆ casual    ┆ 4m 38s    ┆ 278       ┆ 49   │\n",
       "│ 02843E     ┆ ike        ┆ 12:51:38   ┆ 12:56:16   ┆   ┆           ┆           ┆           ┆      │\n",
       "│ DC8A0AA7E8 ┆ classic_bi ┆ 2022-12-09 ┆ 2022-12-09 ┆ … ┆ member    ┆ 7m 18s    ┆ 438       ┆ 49   │\n",
       "│ 375123     ┆ ke         ┆ 17:07:36   ┆ 17:14:54   ┆   ┆           ┆           ┆           ┆      │\n",
       "│ 7C0F89F628 ┆ classic_bi ┆ 2022-12-31 ┆ 2022-12-31 ┆ … ┆ member    ┆ 4m 4s     ┆ 244       ┆ 52   │\n",
       "│ 65282A     ┆ ke         ┆ 13:11:35   ┆ 13:15:39   ┆   ┆           ┆           ┆           ┆      │\n",
       "└────────────┴────────────┴────────────┴────────────┴───┴───────────┴───────────┴───────────┴──────┘"
      ]
     },
     "execution_count": 300,
     "metadata": {},
     "output_type": "execute_result"
    }
   ],
   "source": [
    "data.filter(pl.col(\"ended_at\") > 27000)"
   ]
  },
  {
   "cell_type": "code",
   "execution_count": null,
   "id": "3fbf7ecf",
   "metadata": {},
   "outputs": [],
   "source": []
  }
 ],
 "metadata": {
  "kernelspec": {
   "display_name": "myarcgispro",
   "language": "python",
   "name": "python3"
  },
  "language_info": {
   "codemirror_mode": {
    "name": "ipython",
    "version": 3
   },
   "file_extension": ".py",
   "mimetype": "text/x-python",
   "name": "python",
   "nbconvert_exporter": "python",
   "pygments_lexer": "ipython3",
   "version": "3.11.10"
  }
 },
 "nbformat": 4,
 "nbformat_minor": 5
}
